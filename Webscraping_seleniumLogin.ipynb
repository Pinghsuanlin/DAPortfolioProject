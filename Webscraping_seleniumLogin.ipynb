{
 "cells": [
  {
   "cell_type": "code",
   "execution_count": 1,
   "id": "6efbdb9e",
   "metadata": {},
   "outputs": [],
   "source": [
    "from selenium import webdriver\n",
    "import yaml\n",
    "from selenium.webdriver.common.by import By\n",
    "import pandas as pd\n",
    "from selenium.webdriver.support.ui import Select\n",
    "import time\n",
    "from selenium.webdriver.support.ui import WebDriverWait\n",
    "from selenium.webdriver.support import expected_conditions as EC"
   ]
  },
  {
   "cell_type": "code",
   "execution_count": 2,
   "id": "80137cf3",
   "metadata": {},
   "outputs": [],
   "source": [
    "url = \"https://portfoliomanager.energystar.gov/pm/login.html\""
   ]
  },
  {
   "cell_type": "code",
   "execution_count": 1,
   "id": "60acf1ff",
   "metadata": {},
   "outputs": [],
   "source": [
    "import os\n",
    "os.chdir('C:/Users/web_login')\n",
    "#os.getcwd()"
   ]
  },
  {
   "cell_type": "code",
   "execution_count": 2,
   "id": "4036fab0",
   "metadata": {},
   "outputs": [],
   "source": [
    "from selenium import webdriver\n",
    "\n",
    "PATH = 'C:/Users/web_login/chromedriver.exe'\n",
    "driver = webdriver.Chrome(PATH)\n",
    "driver.maximize_window()\n",
    "\n",
    "driver.get(url)"
   ]
  },
  {
   "cell_type": "code",
   "execution_count": 5,
   "id": "1b1ecfbe",
   "metadata": {},
   "outputs": [],
   "source": [
    "import yaml\n",
    "conf = yaml.safe_load(open('loginDetails.yml'))\n",
    "username = conf['portfolio_user']['user']\n",
    "password = conf['portfolio_user']['password']"
   ]
  },
  {
   "cell_type": "code",
   "execution_count": 6,
   "id": "9eff6b29",
   "metadata": {},
   "outputs": [],
   "source": [
    "from selenium.webdriver.common.by import By\n",
    "def login(url,usernameId, username, passwordId, password, submit_buttonId):\n",
    "        driver.get(url)\n",
    "        driver.find_element(By.ID, 'j_username').send_keys(username)\n",
    "        driver.find_element(By.ID, 'j_password').send_keys(password)\n",
    "        driver.find_element(By.ID, 'button-login').click()"
   ]
  },
  {
   "cell_type": "code",
   "execution_count": 7,
   "id": "bd43d70b",
   "metadata": {},
   "outputs": [],
   "source": [
    "login(url, \"j_username\", username, \"j_password\", password, \"button-login\")"
   ]
  },
  {
   "cell_type": "code",
   "execution_count": 4,
   "id": "277d4466",
   "metadata": {},
   "outputs": [],
   "source": [
    "#examine the table property list\n",
    "table = driver.find_elements(By.XPATH,'//tbody/tr/td[2]/a')\n",
    "#for name in table:\n",
    "    #print(name.text)"
   ]
  },
  {
   "cell_type": "markdown",
   "id": "85707fbe",
   "metadata": {},
   "source": [
    "### Tailored to target property for scraping"
   ]
  },
  {
   "cell_type": "code",
   "execution_count": 9,
   "id": "76e86d2f",
   "metadata": {},
   "outputs": [],
   "source": [
    "#clicking into interested property\n",
    "link = driver.find_element(By.LINK_TEXT, '<identifying text>')\n",
    "link.click()"
   ]
  },
  {
   "cell_type": "code",
   "execution_count": 10,
   "id": "7fef69ec",
   "metadata": {},
   "outputs": [],
   "source": [
    "#Click into Energy tab\n",
    "tab= driver.find_element(By.LINK_TEXT, '<identifying text>')\n",
    "tab.click()"
   ]
  },
  {
   "cell_type": "markdown",
   "id": "93b5fb88",
   "metadata": {},
   "source": [
    "### 1. Table scraping for selected columns valye"
   ]
  },
  {
   "cell_type": "code",
   "execution_count": 11,
   "id": "02a2f34e",
   "metadata": {},
   "outputs": [],
   "source": [
    "col1 = driver.find_elements(By.XPATH,'<xpath>')\n",
    "col2 = driver.find_elements(By.XPATH,'<xpath>')\n",
    "col3 = driver.find_elements(By.XPATH,'<xpath>')\n",
    "col4 = driver.find_elements(By.XPATH,'<xpath>')\n",
    "\n",
    "empty_list_as_placeholder = []\n",
    "\n",
    "for i in range(len(name_meter)):\n",
    "    temp={\n",
    "        'col1': col1[i].text,\n",
    "        'col1': col2[i].text,\n",
    "        'col1': col3[i].text,\n",
    "        'col1': col4[i].text\n",
    "    }\n",
    "    empty_list_as_placeholder.append(temp)"
   ]
  },
  {
   "cell_type": "code",
   "execution_count": 5,
   "id": "305f72a2",
   "metadata": {},
   "outputs": [],
   "source": [
    "df=pd.DataFrame(empty_list_as_placeholder)\n",
    "df"
   ]
  },
  {
   "cell_type": "code",
   "execution_count": 13,
   "id": "85c57484",
   "metadata": {},
   "outputs": [],
   "source": [
    "ticker = 'selected property'\n",
    "xlfile = 'Portfolio_data_'+ ticker + \".xlsx\"\n",
    "df.to_excel(xlfile, sheet_name='sheet_name', index=False)"
   ]
  },
  {
   "cell_type": "markdown",
   "id": "20937b33",
   "metadata": {},
   "source": [
    "### 2. Table scraping with dropdown list"
   ]
  },
  {
   "cell_type": "code",
   "execution_count": 14,
   "id": "91f311f9",
   "metadata": {},
   "outputs": [],
   "source": [
    "#clicking into name_meter\n",
    "name_meter = driver.find_element(By.XPATH,'xpath')\n",
    "name_meter.click()"
   ]
  },
  {
   "cell_type": "markdown",
   "id": "adec0ce0",
   "metadata": {},
   "source": [
    "#### (1) Filter the year display"
   ]
  },
  {
   "cell_type": "code",
   "execution_count": 15,
   "id": "b0097d1d",
   "metadata": {},
   "outputs": [],
   "source": [
    "from selenium.webdriver.support import expected_conditions as EC\n",
    "from selenium.webdriver.support.ui import WebDriverWait\n",
    "from selenium.webdriver.common.by import By\n",
    "#Click on the dropdow`n \n",
    "WebDriverWait(driver,10).until(EC.element_to_be_clickable((By.XPATH,\"xpath\"))).click()\n",
    "#wait for the visibility of list \n",
    "WebDriverWait(driver,10).until(EC.visibility_of_element_located(\n",
    "    (By.XPATH, \"xpath\")))\n",
    "#and then click on the option from the list\n",
    "WebDriverWait(driver,10).until(EC.element_to_be_clickable(\n",
    "    (By.XPATH, \"xpath\"))).click()"
   ]
  },
  {
   "cell_type": "markdown",
   "id": "aa598bb6",
   "metadata": {},
   "source": [
    "#### (2) Scrap for table value"
   ]
  },
  {
   "cell_type": "code",
   "execution_count": 16,
   "id": "31643d93",
   "metadata": {},
   "outputs": [],
   "source": [
    "webtable_df = pd.read_html(driver.find_element(By.XPATH, \"xpath\").get_attribute('outerHTML'))[0]"
   ]
  },
  {
   "cell_type": "code",
   "execution_count": 6,
   "id": "a70d3cc5",
   "metadata": {},
   "outputs": [],
   "source": [
    "webtable_df"
   ]
  },
  {
   "cell_type": "markdown",
   "id": "c3bdf51a",
   "metadata": {},
   "source": [
    "#### (3) Save to excel sheet\n",
    "ExcelWriter can also be used to append to an existing Excel file:"
   ]
  },
  {
   "cell_type": "code",
   "execution_count": 18,
   "id": "d9c38883",
   "metadata": {},
   "outputs": [],
   "source": [
    "with pd.ExcelWriter(xlfile, engine='openpyxl', mode='a') as writer:\n",
    "    webtable_df.to_excel(writer, sheet_name='sheetname2', index=False)"
   ]
  },
  {
   "cell_type": "code",
   "execution_count": 28,
   "id": "6b7a6fa8",
   "metadata": {},
   "outputs": [],
   "source": [
    "#Save to excel sheet\n",
    "with pd.ExcelWriter(xlfile, engine='openpyxl', mode='a') as writer:\n",
    "    webtable_df.to_excel(writer, sheet_name='Metrics Comparison', index=False)"
   ]
  },
  {
   "cell_type": "code",
   "execution_count": null,
   "id": "5896c0d8",
   "metadata": {},
   "outputs": [],
   "source": [
    "#close the webpage\n",
    "driver.quit()"
   ]
  },
  {
   "cell_type": "markdown",
   "id": "b6368a3a",
   "metadata": {},
   "source": [
    "Reference:\n",
    "\n",
    "1. [Python Selenium Tutorial #1 - Web Scraping, Bots & Testing](https://www.youtube.com/watch?v=Xjv1sY630Uc&list=PLzMcBGfZo4-n40rB1XaJ0ak1bemvlqumQ&index=1)\n",
    "2. [Pandas.DataFrame.to_excel](https://pandas.pydata.org/pandas-docs/stable/reference/api/pandas.DataFrame.to_excel.html)\n",
    "3. [How to SCRAPE DYNAMIC websites with Selenium](https://www.youtube.com/watch?v=lTypMlVBFM4&list=PLRzwgpycm-FgQ9lP_JTfrCa9O573XiJph&index=3)\n",
    "4. [Web Scraping Tutorial - HTML Tables - Python & Selenium [+ Excel File]](https://www.youtube.com/watch?v=JLDbAx6LAdo)\n",
    "5. [Dropdown for select](https://www.youtube.com/watch?v=nrqVGAV51Fw)\n",
    "6. [how to click on the dropdown list items using selenium python without select tag?](https://sqa.stackexchange.com/questions/47247/how-to-click-on-the-dropdown-list-items-using-selenium-python-without-select-tag)\n",
    "7. [Web Scraping: How to use Python selenium to extract data from HTML table](https://anaasher.medium.com/web-scraping-how-to-use-python-selenium-to-extract-data-from-html-table-7e6e3bcaebd6)"
   ]
  }
 ],
 "metadata": {
  "kernelspec": {
   "display_name": "Python 3 (ipykernel)",
   "language": "python",
   "name": "python3"
  },
  "language_info": {
   "codemirror_mode": {
    "name": "ipython",
    "version": 3
   },
   "file_extension": ".py",
   "mimetype": "text/x-python",
   "name": "python",
   "nbconvert_exporter": "python",
   "pygments_lexer": "ipython3",
   "version": "3.9.12"
  }
 },
 "nbformat": 4,
 "nbformat_minor": 5
}
